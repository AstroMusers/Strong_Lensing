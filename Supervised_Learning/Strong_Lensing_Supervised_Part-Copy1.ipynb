{
 "cells": [
  {
   "cell_type": "code",
   "execution_count": 1,
   "metadata": {},
   "outputs": [],
   "source": [
    "import pandas as pd\n",
    "import numpy as np\n",
    "import matplotlib.pyplot as plt"
   ]
  },
  {
   "cell_type": "markdown",
   "metadata": {},
   "source": [
    "## CATALOG"
   ]
  },
  {
   "cell_type": "code",
   "execution_count": 8,
   "metadata": {},
   "outputs": [],
   "source": [
    "cat = pd.read_csv(\"/Users/korayaydogan/Downloads/cat_dark.csv\")\n",
    "cat = cat.drop([213913-200001, 226305-200001, 233597-200001, 244071-200001, 259871-200001, 261145-200001, 270458-200001, 288731-200001,\n",
    "       294173-200001])\n",
    "\n",
    "test_cat = cat[:79991]"
   ]
  },
  {
   "cell_type": "code",
   "execution_count": 9,
   "metadata": {},
   "outputs": [
    {
     "name": "stdout",
     "output_type": "stream",
     "text": [
      "plotting\n"
     ]
    },
    {
     "data": {
      "image/png": "[encoded data removed]",
      "text/plain": [
       "<Figure size 432x288 with 1 Axes>"
      ]
     },
     "metadata": {
      "needs_background": "light"
     },
     "output_type": "display_data"
    }
   ],
   "source": [
    "pred = np.load(\"/Users/korayaydogan/Downloads/pred_rotation.npy\")\n",
    "test = pd.read_csv(\"/Users/korayaydogan/Downloads/test.csv\")[\"0\"]\n",
    "test = np.array(test)\n",
    "\n",
    "def plotter(param=None):\n",
    "    #param (str): column name in the catalog\n",
    "    cat_data = np.array(test_cat[param]) # the x axis\n",
    "    \n",
    "    lst = []\n",
    "    for i in range(pred[:,1].shape[0]):\n",
    "        if np.round(pred[:,1][i]) == 1 and test[i] == 0:\n",
    "            lst.append(\"FP\")\n",
    "        if np.round(pred[:,1][i]) == 0 and test[i] == 1:\n",
    "            lst.append(\"FN\")\n",
    "        if np.round(pred[:,1][i]) == 0 and test[i] == 0:\n",
    "            lst.append(\"TN\")\n",
    "        if np.round(pred[:,1][i]) == 1 and test[i] == 1:\n",
    "            lst.append(\"TP\") \n",
    "            \n",
    "    fn_index = list(np.where(np.array(lst)==\"FN\")[0])\n",
    "    fp_index = list(np.where(np.array(lst)==\"FP\")[0])\n",
    "    tn_index = list(np.where(np.array(lst)==\"TN\")[0])\n",
    "    tp_index = list(np.where(np.array(lst)==\"TP\")[0]) #the y axis\n",
    "    \n",
    "    fn_data = []\n",
    "    fp_data = []\n",
    "    tn_data = []\n",
    "    tp_data = []\n",
    "    \n",
    "    for i in fn_index:\n",
    "        fn_data.append(cat_data[i])\n",
    "        \n",
    "    for i in fp_index:\n",
    "        fp_data.append(cat_data[i])\n",
    "        \n",
    "    for i in tn_index:\n",
    "        tn_data.append(cat_data[i])\n",
    "        \n",
    "    for i in tp_index:\n",
    "        tp_data.append(cat_data[i])       \n",
    "\n",
    "    cat_data = np.sort(cat_data)\n",
    "    fn_data, fp_data, tn_data, tp_data = np.array(fn_data), np.array(fp_data), np.array(tn_data), np.array(tp_data)\n",
    "    \n",
    "    print(\"plotting\")\n",
    "    bin_min = min(cat_data)\n",
    "    bin_max = max(cat_data)\n",
    "    bins = np.linspace(bin_min, bin_max, 10)\n",
    "    \n",
    "    digitized = np.digitize(cat_data, bins)\n",
    "    bin_means = [cat_data[digitized == i].mean() for i in range(1, len(bins))]\n",
    "    \n",
    "    plt.hist([fn_data, fp_data, tn_data, tp_data], bin_means, label=[\"FN\", \"FP\", \"TN\", \"TP\"], log=True)\n",
    "    plt.xlabel(\"n_sources\")\n",
    "    plt.ylabel(\"Counts\")\n",
    "    plt.legend()\n",
    "    plt.savefig(\"/Users/korayaydogan/Desktop/Grav_Lens/Supervised/Plots/Rotation/n_sources.png\")\n",
    "    plt.show()\n",
    "         \n",
    "\n",
    "plotter(\"n_sources\")"
   ]
  },
  {
   "cell_type": "code",
   "execution_count": 16,
   "metadata": {},
   "outputs": [
    {
     "data": {
      "text/plain": [
       "Index(['ID', 'x_crit', 'y_crit', 'source_ID', 'z_source', 'z_lens',\n",
       "       'mag_source', 'ein_area', 'n_crit', 'r_source', 'crit_area',\n",
       "       'n_pix_source', 'source_flux', 'n_pix_lens', 'lens_flux', 'n_source_im',\n",
       "       'mag_eff', 'sb_contrast', 'color_diff', 'n_gal_3', 'n_gal_5',\n",
       "       'n_gal_10', 'halo_mass', 'star_mass', 'mag_lens', 'n_sources',\n",
       "       'Unnamed: 26'],\n",
       "      dtype='object')"
      ]
     },
     "execution_count": 16,
     "metadata": {},
     "output_type": "execute_result"
    }
   ],
   "source": [
    "cat.columns"
   ]
  },
  {
   "cell_type": "markdown",
   "metadata": {},
   "source": [
    "## NEW PRA + ERROR BARS"
   ]
  },
  {
   "cell_type": "code",
   "execution_count": 53,
   "metadata": {},
   "outputs": [],
   "source": [
    "cat_data = np.array(test_cat[\"halo_mass\"])"
   ]
  },
  {
   "cell_type": "code",
   "execution_count": 54,
   "metadata": {},
   "outputs": [],
   "source": [
    "pred = np.load(\"/Users/korayaydogan/Downloads/pred_rotation.npy\")\n",
    "test = pd.read_csv(\"/Users/korayaydogan/Downloads/test.csv\")[\"0\"]\n",
    "test = np.array(test)\n",
    "\n",
    "def plotter(param=None):\n",
    "    #param (str): column name in the catalog\n",
    "    cat_data = np.array(test_cat[param]) # the x axis\n",
    "    \n",
    "    lst = []\n",
    "    for i in range(pred[:,1].shape[0]):\n",
    "        if np.round(pred[:,1][i]) == 1 and test[i] == 0:\n",
    "            lst.append(\"FP\")\n",
    "        if np.round(pred[:,1][i]) == 0 and test[i] == 1:\n",
    "            lst.append(\"FN\")\n",
    "        if np.round(pred[:,1][i]) == 0 and test[i] == 0:\n",
    "            lst.append(\"TN\")\n",
    "        if np.round(pred[:,1][i]) == 1 and test[i] == 1:\n",
    "            lst.append(\"TP\") \n",
    "            \n",
    "    fn_index = list(np.where(np.array(lst)==\"FN\")[0])\n",
    "    fp_index = list(np.where(np.array(lst)==\"FP\")[0])\n",
    "    tn_index = list(np.where(np.array(lst)==\"TN\")[0])\n",
    "    tp_index = list(np.where(np.array(lst)==\"TP\")[0]) #the y axis\n",
    "    \n",
    "    fn_data = []\n",
    "    fp_data = []\n",
    "    tn_data = []\n",
    "    tp_data = []\n",
    "    \n",
    "    for i in fn_index:\n",
    "        fn_data.append(cat_data[i])\n",
    "        \n",
    "    for i in fp_index:\n",
    "        fp_data.append(cat_data[i])\n",
    "        \n",
    "    for i in tn_index:\n",
    "        tn_data.append(cat_data[i])\n",
    "        \n",
    "    for i in tp_index:\n",
    "        tp_data.append(cat_data[i])       \n",
    "\n",
    "    cat_data = np.sort(cat_data)\n",
    "    fn_data, fp_data, tn_data, tp_data = np.array(fn_data), np.array(fp_data), np.array(tn_data), np.array(tp_data)\n",
    "    \n",
    "    bin_min = min(cat_data)\n",
    "    bin_max = max(cat_data)\n",
    "    bins = np.linspace(bin_min, bin_max, 12)\n",
    "    \n",
    "    digitized = np.digitize(cat_data, bins)\n",
    "    bin_means = [cat_data[digitized == i].mean() for i in range(1, len(bins))]\n",
    "\n",
    "    counts, bins, patches = plt.hist([fn_data, fp_data, tn_data, tp_data], bin_means, label=[\"fn\", \"fp\", \"tn\", \"tp\"], log=True)\n",
    "    \n",
    "    fn_count = counts[0]\n",
    "    fp_count = counts[1]\n",
    "    tn_count = counts[2]\n",
    "    tp_count = counts[3]\n",
    "    \n",
    "    pres = tp_count / (tp_count + fp_count)\n",
    "    rec = tp_count / (tp_count + fn_count)\n",
    "    acc = (tp_count + tn_count) / (tp_count + tn_count + fp_count + fn_count)\n",
    "\n",
    "    pres[np.isnan(pres)] = 0\n",
    "    rec[np.isnan(rec)] = 0\n",
    "    acc[np.isnan(acc)] = 0\n",
    "    print(pres.shape)\n",
    "    return pres, rec, acc"
   ]
  },
  {
   "cell_type": "code",
   "execution_count": 55,
   "metadata": {},
   "outputs": [
    {
     "name": "stdout",
     "output_type": "stream",
     "text": [
      "(10,)\n",
      "(10,)\n"
     ]
    },
    {
     "data": {
      "image/png": "[encoded data removed]",
      "text/plain": [
       "<Figure size 432x288 with 1 Axes>"
      ]
     },
     "metadata": {
      "needs_background": "light"
     },
     "output_type": "display_data"
    }
   ],
   "source": [
    "pres = plotter(\"halo_mass\")[0]\n",
    "rec = plotter(\"halo_mass\")[1]"
   ]
  },
  {
   "cell_type": "code",
   "execution_count": 56,
   "metadata": {},
   "outputs": [],
   "source": [
    "bin_min = min(cat_data)\n",
    "bin_max = max(cat_data)\n",
    "bins = np.linspace(bin_min, bin_max, 11)\n",
    "\n",
    "digitized = np.digitize(cat_data, bins)\n",
    "bin_means = [cat_data[digitized == i].mean() for i in range(1, len(bins))] \n",
    "len(bin_means)\n",
    "bin_means = np.nan_to_num(bin_means)"
   ]
  },
  {
   "cell_type": "code",
   "execution_count": 39,
   "metadata": {},
   "outputs": [
    {
     "data": {
      "image/png": "[encoded data removed]",
      "text/plain": [
       "<Figure size 576x360 with 2 Axes>"
      ]
     },
     "metadata": {
      "needs_background": "light"
     },
     "output_type": "display_data"
    }
   ],
   "source": [
    "fig, host = plt.subplots(figsize=(8,5))  \n",
    "par1 = host.twinx()\n",
    "\n",
    "host.set_xlim(min(bin_means), max(bin_means))\n",
    "host.set_ylim(0, 1)\n",
    "par1.set_ylim(0, 1)\n",
    "    \n",
    "host.set_xlabel(\"Einstein Area\")\n",
    "host.set_ylabel(\"Precision\")\n",
    "par1.set_ylabel(\"Recall\")\n",
    "\n",
    "color1 = plt.cm.viridis(0)\n",
    "color2 = plt.cm.viridis(0.5)\n",
    "\n",
    "p1, = host.plot(bin_means, pres, color=color1, label=\"Precision\")\n",
    "p2, = par1.plot(bin_means, rec, color=color2, label=\"Recall\")\n",
    "\n",
    "lns = [p1, p2]\n",
    "host.legend(handles=lns, loc='best')\n",
    "\n",
    "par2.spines['right'].set_position(('outward', 60))\n",
    "\n",
    "host.yaxis.label.set_color(p1.get_color())\n",
    "par1.yaxis.label.set_color(p2.get_color())\n",
    "\n",
    "fig.tight_layout()\n",
    "#plt.savefig(\"/Users/korayaydogan/Desktop/Grav_Lens/Supervised/Plots/Rotation/pra_z_lens_rotation_aug.png\")\n",
    "plt.show()"
   ]
  },
  {
   "cell_type": "code",
   "execution_count": 22,
   "metadata": {},
   "outputs": [],
   "source": [
    "pres_mean = np.mean(pres)\n",
    "rec_mean = np.mean(rec)\n",
    "\n",
    "\n",
    "# Calculate the standard deviation\n",
    "pres_std = np.std(pres)\n",
    "rec_std = np.std(rec)\n",
    "\n",
    "\n",
    "# Define labels, positions, bar heights and error bar heights\n",
    "labels = ['Precision', 'Recall']\n",
    "x_pos = np.arange(len(labels))\n",
    "CTEs = [pres_mean, rec_mean]\n",
    "error = [pres_std, rec_std]"
   ]
  },
  {
   "cell_type": "code",
   "execution_count": 58,
   "metadata": {},
   "outputs": [
    {
     "data": {
      "image/png": "[encoded data removed]",
      "text/plain": [
       "<Figure size 576x360 with 2 Axes>"
      ]
     },
     "metadata": {
      "needs_background": "light"
     },
     "output_type": "display_data"
    }
   ],
   "source": [
    "fig, host = plt.subplots(figsize=(8,5)) # (width, height) in inches\n",
    "\n",
    "color1 = plt.cm.viridis(0)\n",
    "color2 = plt.cm.viridis(0.5)\n",
    "    \n",
    "    \n",
    "par1 = host.twinx()\n",
    "\n",
    "host.set_xlabel(\"Halo Mass\")\n",
    "host.set_ylabel(\"Precision\")\n",
    "par1.set_ylabel(\"Recall\")\n",
    "\n",
    "host.yaxis.label.set_color(color1)\n",
    "par1.yaxis.label.set_color(color2)\n",
    "\n",
    "host.errorbar(bin_means, pres, xerr=sem(bin_means), yerr=sem(pres), color=color1)\n",
    "par1.errorbar(bin_means, rec, xerr=sem(bin_means), yerr=sem(rec), color=color2)\n",
    "\n",
    "#plt.savefig(\"/Users/korayaydogan/Desktop/Grav_Lens/Supervised/Plots/Rotation/pra_halo_mass_rotation_aug.png\")\n",
    "plt.savefig(\"/Users/korayaydogan/Downloads/pra_halo_mass_rotation_aug.png\")"
   ]
  },
  {
   "cell_type": "code",
   "execution_count": null,
   "metadata": {},
   "outputs": [],
   "source": []
  }
 ],
 "metadata": {
  "kernelspec": {
   "display_name": "Python 3",
   "language": "python",
   "name": "python3"
  },
  "language_info": {
   "codemirror_mode": {
    "name": "ipython",
    "version": 3
   },
   "file_extension": ".py",
   "mimetype": "text/x-python",
   "name": "python",
   "nbconvert_exporter": "python",
   "pygments_lexer": "ipython3",
   "version": "3.8.3"
  }
 },
 "nbformat": 4,
 "nbformat_minor": 4
}
