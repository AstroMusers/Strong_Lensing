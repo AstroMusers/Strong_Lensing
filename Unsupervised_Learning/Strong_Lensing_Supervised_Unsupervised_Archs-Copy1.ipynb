{
 "cells": [
  {
   "cell_type": "code",
   "execution_count": 36,
   "metadata": {},
   "outputs": [],
   "source": [
    "import tensorflow as tf\n",
    "from tensorflow.keras import datasets, layers, models\n",
    "from tensorflow.keras import layers, losses\n",
    "from tensorflow.keras.models import Model\n",
    "import numpy as np\n",
    "import matplotlib.pyplot as plt\n",
    "import pandas as pd\n",
    "import time"
   ]
  },
  {
   "cell_type": "markdown",
   "metadata": {},
   "source": [
    "## Variational Autoencoder Architecture"
   ]
  },
  {
   "cell_type": "code",
   "execution_count": 5,
   "metadata": {},
   "outputs": [],
   "source": [
    "class Sampling(layers.Layer):\n",
    "    \"\"\"Uses (z_mean, z_log_var) to sample z, the vector encoding a digit.\"\"\"\n",
    "\n",
    "    def call(self, inputs):\n",
    "        z_mean, z_log_var = inputs\n",
    "        batch = tf.shape(z_mean)[0]\n",
    "        dim = tf.shape(z_mean)[1]\n",
    "        epsilon = tf.keras.backend.random_normal(shape=(batch, dim))\n",
    "        return z_mean + tf.exp(0.5 * z_log_var) * epsilon"
   ]
  },
  {
   "cell_type": "code",
   "execution_count": 6,
   "metadata": {},
   "outputs": [
    {
     "name": "stdout",
     "output_type": "stream",
     "text": [
      "Model: \"encoder\"\n",
      "__________________________________________________________________________________________________\n",
      "Layer (type)                    Output Shape         Param #     Connected to                     \n",
      "==================================================================================================\n",
      "input_1 (InputLayer)            [(None, 64, 64, 1)]  0                                            \n",
      "__________________________________________________________________________________________________\n",
      "conv2d (Conv2D)                 (None, 64, 64, 64)   448         input_1[0][0]                    \n",
      "__________________________________________________________________________________________________\n",
      "leaky_re_lu (LeakyReLU)         (None, 64, 64, 64)   0           conv2d[0][0]                     \n",
      "__________________________________________________________________________________________________\n",
      "conv2d_1 (Conv2D)               (None, 64, 64, 64)   24640       leaky_re_lu[0][0]                \n",
      "__________________________________________________________________________________________________\n",
      "leaky_re_lu_1 (LeakyReLU)       (None, 64, 64, 64)   0           conv2d_1[0][0]                   \n",
      "__________________________________________________________________________________________________\n",
      "max_pooling2d (MaxPooling2D)    (None, 21, 64, 64)   0           leaky_re_lu_1[0][0]              \n",
      "__________________________________________________________________________________________________\n",
      "conv2d_2 (Conv2D)               (None, 21, 64, 64)   24640       max_pooling2d[0][0]              \n",
      "__________________________________________________________________________________________________\n",
      "leaky_re_lu_2 (LeakyReLU)       (None, 21, 64, 64)   0           conv2d_2[0][0]                   \n",
      "__________________________________________________________________________________________________\n",
      "conv2d_3 (Conv2D)               (None, 21, 64, 64)   24640       leaky_re_lu_2[0][0]              \n",
      "__________________________________________________________________________________________________\n",
      "leaky_re_lu_3 (LeakyReLU)       (None, 21, 64, 64)   0           conv2d_3[0][0]                   \n",
      "__________________________________________________________________________________________________\n",
      "max_pooling2d_1 (MaxPooling2D)  (None, 7, 64, 64)    0           leaky_re_lu_3[0][0]              \n",
      "__________________________________________________________________________________________________\n",
      "flatten (Flatten)               (None, 28672)        0           max_pooling2d_1[0][0]            \n",
      "__________________________________________________________________________________________________\n",
      "dense (Dense)                   (None, 16)           458768      flatten[0][0]                    \n",
      "__________________________________________________________________________________________________\n",
      "z_mean (Dense)                  (None, 2)            34          dense[0][0]                      \n",
      "__________________________________________________________________________________________________\n",
      "z_log_var (Dense)               (None, 2)            34          dense[0][0]                      \n",
      "__________________________________________________________________________________________________\n",
      "sampling (Sampling)             (None, 2)            0           z_mean[0][0]                     \n",
      "                                                                 z_log_var[0][0]                  \n",
      "==================================================================================================\n",
      "Total params: 533,204\n",
      "Trainable params: 533,204\n",
      "Non-trainable params: 0\n",
      "__________________________________________________________________________________________________\n"
     ]
    }
   ],
   "source": [
    "latent_dim = 2\n",
    "encoder_inputs = tf.keras.Input(shape = (64, 64, 1))\n",
    "\n",
    "x = tf.keras.layers.Conv2D(64, (2, 3), (1, 1), padding = 'same')(encoder_inputs)\n",
    "x = tf.keras.layers.LeakyReLU()(x)\n",
    "x = tf.keras.layers.Conv2D(64, (2, 3), (1, 1), padding = 'same')(x)\n",
    "x = tf.keras.layers.LeakyReLU()(x)\n",
    "x = tf.keras.layers.MaxPooling2D((3, 1))(x)\n",
    "x = tf.keras.layers.Conv2D(64, (2, 3), (1, 1), padding = 'same')(x)\n",
    "x = tf.keras.layers.LeakyReLU()(x)\n",
    "x = tf.keras.layers.Conv2D(64, (2, 3), (1, 1), padding = 'same')(x)\n",
    "x = tf.keras.layers.LeakyReLU()(x)\n",
    "x = tf.keras.layers.MaxPooling2D((3, 1))(x)\n",
    "x = tf.keras.layers.Flatten()(x)\n",
    "x = tf.keras.layers.Dense(16, activation=\"relu\")(x)\n",
    "\n",
    "z_mean = layers.Dense(latent_dim, name=\"z_mean\")(x)\n",
    "z_log_var = layers.Dense(latent_dim, name=\"z_log_var\")(x)\n",
    "z = Sampling()((z_mean, z_log_var))\n",
    "encoder = tf.keras.Model(encoder_inputs, z, name=\"encoder\")\n",
    "encoder.summary()"
   ]
  },
  {
   "cell_type": "code",
   "execution_count": 7,
   "metadata": {},
   "outputs": [
    {
     "name": "stdout",
     "output_type": "stream",
     "text": [
      "Model: \"decoder\"\n",
      "_________________________________________________________________\n",
      "Layer (type)                 Output Shape              Param #   \n",
      "=================================================================\n",
      "input_2 (InputLayer)         [(None, 2)]               0         \n",
      "_________________________________________________________________\n",
      "dense_1 (Dense)              (None, 262144)            786432    \n",
      "_________________________________________________________________\n",
      "reshape (Reshape)            (None, 64, 64, 64)        0         \n",
      "_________________________________________________________________\n",
      "conv2d_transpose (Conv2DTran (None, 64, 64, 64)        12352     \n",
      "_________________________________________________________________\n",
      "leaky_re_lu_4 (LeakyReLU)    (None, 64, 64, 64)        0         \n",
      "_________________________________________________________________\n",
      "conv2d_transpose_1 (Conv2DTr (None, 64, 64, 64)        12352     \n",
      "_________________________________________________________________\n",
      "leaky_re_lu_5 (LeakyReLU)    (None, 64, 64, 64)        0         \n",
      "_________________________________________________________________\n",
      "conv2d_transpose_2 (Conv2DTr (None, 64, 64, 64)        12352     \n",
      "_________________________________________________________________\n",
      "tf.math.reduce_sum (TFOpLamb (None, 64, 64)            0         \n",
      "=================================================================\n",
      "Total params: 823,488\n",
      "Trainable params: 823,488\n",
      "Non-trainable params: 0\n",
      "_________________________________________________________________\n"
     ]
    }
   ],
   "source": [
    "latent_inputs = tf.keras.Input(shape=(latent_dim,))\n",
    "y = layers.Dense(64 * 64 * 64, activation=\"relu\")(latent_inputs)\n",
    "y = layers.Reshape((64, 64, 64))(y)\n",
    "y = layers.Conv2DTranspose(filters=64, kernel_size=(1, 3), strides=(1, 1), padding=\"same\")(y)\n",
    "y = tf.keras.layers.LeakyReLU()(y)\n",
    "y = layers.Conv2DTranspose(filters=64, kernel_size=(1, 3), strides=(1, 1), padding=\"same\")(y)\n",
    "y = tf.keras.layers.LeakyReLU()(y)\n",
    "y = layers.Conv2DTranspose(filters=64, kernel_size=(1, 3), strides=(1, 1), padding=\"same\")(y)\n",
    "decoder_outputs = tf.math.reduce_sum(y, axis = -1)\n",
    "decoder = tf.keras.Model(latent_inputs, decoder_outputs, name=\"decoder\")\n",
    "decoder.summary()"
   ]
  },
  {
   "cell_type": "code",
   "execution_count": 8,
   "metadata": {},
   "outputs": [],
   "source": [
    "outputs = decoder(z)\n",
    "vae = tf.keras.Model(inputs=encoder_inputs, outputs=outputs, name=\"vae\")\n",
    "\n",
    "# Add KL divergence regularization loss.\n",
    "kl_loss = -0.5 * tf.reduce_mean(z_log_var - tf.square(z_mean) - tf.exp(z_log_var) + 1)\n",
    "vae.add_loss(kl_loss)"
   ]
  },
  {
   "cell_type": "code",
   "execution_count": 20,
   "metadata": {},
   "outputs": [],
   "source": [
    "# Loss and optimizer.\n",
    "loss_fn = tf.keras.losses.MeanSquaredError()\n",
    "optimizer = tf.keras.optimizers.Adam(learning_rate=1e-3)\n",
    "# Configure the model for training.\n",
    "vae.compile(optimizer, loss=loss_fn)"
   ]
  },
  {
   "cell_type": "markdown",
   "metadata": {},
   "source": [
    "## Normal Autoencoder Architecture"
   ]
  },
  {
   "cell_type": "code",
   "execution_count": 14,
   "metadata": {},
   "outputs": [
    {
     "name": "stdout",
     "output_type": "stream",
     "text": [
      "Model: \"encoder\"\n",
      "_________________________________________________________________\n",
      "Layer (type)                 Output Shape              Param #   \n",
      "=================================================================\n",
      "input_9 (InputLayer)         [(None, 100, 100, 1)]     0         \n",
      "_________________________________________________________________\n",
      "conv2d_20 (Conv2D)           (None, 100, 100, 64)      448       \n",
      "_________________________________________________________________\n",
      "leaky_re_lu_20 (LeakyReLU)   (None, 100, 100, 64)      0         \n",
      "_________________________________________________________________\n",
      "conv2d_21 (Conv2D)           (None, 100, 100, 64)      24640     \n",
      "_________________________________________________________________\n",
      "leaky_re_lu_21 (LeakyReLU)   (None, 100, 100, 64)      0         \n",
      "_________________________________________________________________\n",
      "conv2d_22 (Conv2D)           (None, 100, 100, 64)      24640     \n",
      "_________________________________________________________________\n",
      "leaky_re_lu_22 (LeakyReLU)   (None, 100, 100, 64)      0         \n",
      "_________________________________________________________________\n",
      "max_pooling2d_10 (MaxPooling (None, 33, 100, 64)       0         \n",
      "_________________________________________________________________\n",
      "conv2d_23 (Conv2D)           (None, 33, 100, 64)       24640     \n",
      "_________________________________________________________________\n",
      "leaky_re_lu_23 (LeakyReLU)   (None, 33, 100, 64)       0         \n",
      "_________________________________________________________________\n",
      "max_pooling2d_11 (MaxPooling (None, 11, 100, 64)       0         \n",
      "_________________________________________________________________\n",
      "dense_13 (Dense)             (None, 11, 100, 32)       2080      \n",
      "_________________________________________________________________\n",
      "flatten_4 (Flatten)          (None, 35200)             0         \n",
      "_________________________________________________________________\n",
      "dense_14 (Dense)             (None, 16)                563216    \n",
      "=================================================================\n",
      "Total params: 639,664\n",
      "Trainable params: 639,664\n",
      "Non-trainable params: 0\n",
      "_________________________________________________________________\n"
     ]
    }
   ],
   "source": [
    "encoder_input = tf.keras.Input(shape = (100, 100, 1))\n",
    "\n",
    "x = tf.keras.layers.Conv2D(64, (2, 3), (1, 1), padding = 'same')(encoder_input)\n",
    "x = tf.keras.layers.LeakyReLU()(x)\n",
    "x = tf.keras.layers.Conv2D(64, (2, 3), (1, 1), padding = 'same')(x)\n",
    "x = tf.keras.layers.LeakyReLU()(x)\n",
    "x = tf.keras.layers.Conv2D(64, (2, 3), (1, 1), padding = 'same')(x)\n",
    "x = tf.keras.layers.LeakyReLU()(x)\n",
    "x = tf.keras.layers.MaxPooling2D((3, 1))(x)\n",
    "x = tf.keras.layers.Conv2D(64, (2, 3), (1, 1), padding = 'same')(x)\n",
    "x = tf.keras.layers.LeakyReLU()(x)\n",
    "x = tf.keras.layers.MaxPooling2D((3, 1))(x)\n",
    "x = tf.keras.layers.Dense(32)(x)\n",
    "x = tf.keras.layers.Flatten()(x)\n",
    "encoder_output = tf.keras.layers.Dense(16)(x)\n",
    "\n",
    "encoder = tf.keras.Model(inputs = encoder_input, outputs = encoder_output, name = \"encoder\")\n",
    "encoder.summary()"
   ]
  },
  {
   "cell_type": "code",
   "execution_count": 15,
   "metadata": {
    "scrolled": false
   },
   "outputs": [
    {
     "name": "stdout",
     "output_type": "stream",
     "text": [
      "Model: \"decoder\"\n",
      "_________________________________________________________________\n",
      "Layer (type)                 Output Shape              Param #   \n",
      "=================================================================\n",
      "input_10 (InputLayer)        [(None, 16)]              0         \n",
      "_________________________________________________________________\n",
      "dense_15 (Dense)             (None, 640000)            10880000  \n",
      "_________________________________________________________________\n",
      "reshape_2 (Reshape)          (None, 100, 100, 64)      0         \n",
      "_________________________________________________________________\n",
      "conv2d_transpose_6 (Conv2DTr (None, 100, 100, 64)      12352     \n",
      "_________________________________________________________________\n",
      "conv2d_transpose_7 (Conv2DTr (None, 100, 100, 64)      12352     \n",
      "_________________________________________________________________\n",
      "conv2d_transpose_8 (Conv2DTr (None, 100, 100, 64)      12352     \n",
      "_________________________________________________________________\n",
      "tf.math.reduce_sum_2 (TFOpLa (None, 100, 100)          0         \n",
      "=================================================================\n",
      "Total params: 10,917,056\n",
      "Trainable params: 10,917,056\n",
      "Non-trainable params: 0\n",
      "_________________________________________________________________\n"
     ]
    }
   ],
   "source": [
    "decoder_input = tf.keras.Input(shape=(16,))\n",
    "y = tf.keras.layers.Dense(100*100*64)(decoder_input)\n",
    "y = layers.Reshape((100, 100, 64))(y)\n",
    "y = layers.Conv2DTranspose(filters=64, kernel_size=(1, 3), strides=(1, 1), activation=\"relu\", padding=\"same\")(y)\n",
    "y = layers.Conv2DTranspose(filters=64, kernel_size=(1, 3), strides=(1, 1), activation=\"relu\", padding=\"same\")(y)\n",
    "y = layers.Conv2DTranspose(filters=64, kernel_size=(1, 3), strides=(1, 1), activation=\"sigmoid\", padding=\"same\")(y)\n",
    "decoder_output = tf.math.reduce_sum(y, axis = -1)\n",
    "\n",
    "decoder = tf.keras.Model(inputs = decoder_input, outputs = decoder_output, name = \"decoder\")\n",
    "decoder.summary()"
   ]
  },
  {
   "cell_type": "markdown",
   "metadata": {},
   "source": [
    "## Class Version"
   ]
  },
  {
   "cell_type": "code",
   "execution_count": 20,
   "metadata": {},
   "outputs": [],
   "source": [
    "class Autoencoder(Model):\n",
    "    def __init__(self, latent_dim):\n",
    "        super(Autoencoder, self).__init__()\n",
    "        self.latent_dim = latent_dim   \n",
    "        self.encoder = tf.keras.Sequential([tf.keras.layers.Input(shape = (100, 100, 1)),\n",
    "                                            tf.keras.layers.Conv2D(64, (2, 3), (1, 1), padding = 'same'),\n",
    "                                            tf.keras.layers.LeakyReLU(),\n",
    "                                            tf.keras.layers.Conv2D(64, (2, 3), (1, 1), padding = 'same'),\n",
    "                                            tf.keras.layers.LeakyReLU(),\n",
    "                                            tf.keras.layers.MaxPooling2D((3, 1)),\n",
    "                                            tf.keras.layers.Conv2D(64, (2, 3), (1, 1), padding = 'same'),\n",
    "                                            tf.keras.layers.LeakyReLU(),\n",
    "                                            tf.keras.layers.Conv2D(64, (2, 3), (1, 1), padding = 'same'),\n",
    "                                            tf.keras.layers.LeakyReLU(),\n",
    "                                            tf.keras.layers.MaxPooling2D((3, 1)),\n",
    "                                            tf.keras.layers.Dense(32),\n",
    "                                            tf.keras.layers.Flatten(),\n",
    "                                            tf.keras.layers.Dense(16)\n",
    "                                            \n",
    "    ])\n",
    "        self.decoder = tf.keras.Sequential([tf.keras.layers.Input(shape=(16,)),\n",
    "                                            tf.keras.layers.Dense(100*100*64),\n",
    "                                            tf.keras.layers.Reshape((100, 100, 64)),\n",
    "                                            tf.keras.layers.Conv2DTranspose(filters=64, kernel_size=(1, 3), strides=(1, 1), padding=\"same\"),\n",
    "                                            tf.keras.layers.LeakyReLU(),\n",
    "                                            tf.keras.layers.Conv2DTranspose(filters=64, kernel_size=(1, 3), strides=(1, 1), padding=\"same\"),\n",
    "                                            tf.keras.layers.LeakyReLU(),\n",
    "                                            tf.keras.layers.Conv2DTranspose(filters=64, kernel_size=(1, 3), strides=(1, 1), activation=\"sigmoid\", padding=\"same\")\n",
    "    \n",
    "    ])\n",
    "\n",
    "    def call(self, x):\n",
    "        encoded = self.encoder(x)\n",
    "        decoded = self.decoder(encoded)\n",
    "        return tf.math.reduce_sum(decoded, -1)"
   ]
  },
  {
   "cell_type": "code",
   "execution_count": 21,
   "metadata": {},
   "outputs": [
    {
     "name": "stdout",
     "output_type": "stream",
     "text": [
      "WARNING:tensorflow:Please add `keras.layers.InputLayer` instead of `keras.Input` to Sequential model. `keras.Input` is intended to be used by Functional model.\n",
      "WARNING:tensorflow:Please add `keras.layers.InputLayer` instead of `keras.Input` to Sequential model. `keras.Input` is intended to be used by Functional model.\n"
     ]
    }
   ],
   "source": [
    "latent_dim = 2\n",
    "autoencoder = Autoencoder(latent_dim)\n",
    "autoencoder.compile(optimizer='adam', loss=losses.MeanSquaredError())"
   ]
  },
  {
   "cell_type": "markdown",
   "metadata": {},
   "source": [
    "## Classification (2) & Regression (1) Model"
   ]
  },
  {
   "cell_type": "code",
   "execution_count": 5,
   "metadata": {},
   "outputs": [],
   "source": [
    "class Supervised(Model):\n",
    "    def __init__(self, last_unit):\n",
    "        super(Supervised, self).__init__()\n",
    "        self.last_unit = last_unit   \n",
    "        self.arch = tf.keras.Sequential([tf.keras.layers.Input(shape = (100, 100, 1)),\n",
    "                                            tf.keras.layers.Conv2D(64, (2, 3), (1, 1), padding = 'same'),\n",
    "                                            tf.keras.layers.LeakyReLU(),\n",
    "                                            tf.keras.layers.Conv2D(64, (2, 3), (1, 1), padding = 'same'),\n",
    "                                            tf.keras.layers.LeakyReLU(),\n",
    "                                            tf.keras.layers.MaxPooling2D((3, 1)),\n",
    "                                            tf.keras.layers.Conv2D(32, (2, 3), (1, 1), padding = 'same'),\n",
    "                                            tf.keras.layers.LeakyReLU(),\n",
    "                                            tf.keras.layers.Conv2D(32, (2, 3), (1, 1), padding = 'same'),\n",
    "                                            tf.keras.layers.LeakyReLU(),\n",
    "                                            tf.keras.layers.MaxPooling2D((3, 1)),\n",
    "                                            tf.keras.layers.Conv2D(64, (2, 3), (1, 1), padding = 'same'),\n",
    "                                            tf.keras.layers.LeakyReLU(),\n",
    "                                            tf.keras.layers.Conv2D(64, (2, 3), (1, 1), padding = 'same'),\n",
    "                                            tf.keras.layers.LeakyReLU(),\n",
    "                                            tf.keras.layers.MaxPooling2D((3, 1)),\n",
    "                                            tf.keras.layers.Conv2D(32, (2, 3), (1, 1), padding = 'same'),\n",
    "                                            tf.keras.layers.LeakyReLU(),\n",
    "                                            tf.keras.layers.Conv2D(32, (2, 3), (1, 1), padding = 'same'),\n",
    "                                            tf.keras.layers.LeakyReLU(),\n",
    "                                            tf.keras.layers.MaxPooling2D((3, 1)),\n",
    "                                            tf.keras.layers.Conv2D(16, (2, 3), (1, 1), padding = 'same'),\n",
    "                                            tf.keras.layers.LeakyReLU(),\n",
    "                                            tf.keras.layers.Conv2D(16, (2, 3), (1, 1), padding = 'same'),\n",
    "                                            tf.keras.layers.LeakyReLU(),\n",
    "                                            tf.keras.layers.Flatten(),\n",
    "                                            tf.keras.layers.Dense(128),\n",
    "                                            tf.keras.layers.Dense(64),\n",
    "                                            tf.keras.layers.Dense(32),\n",
    "                                            tf.keras.layers.Dense(last_unit)])\n",
    "                                            \n",
    "\n",
    "    def call(self, x):\n",
    "        out = self.arch(x)\n",
    "        return out"
   ]
  },
  {
   "cell_type": "code",
   "execution_count": 10,
   "metadata": {},
   "outputs": [
    {
     "name": "stdout",
     "output_type": "stream",
     "text": [
      "WARNING:tensorflow:Please add `keras.layers.InputLayer` instead of `keras.Input` to Sequential model. `keras.Input` is intended to be used by Functional model.\n"
     ]
    }
   ],
   "source": [
    "last_unit = 2\n",
    "arch = Supervised(last_unit)\n",
    "arch.compile(optimizer='adam', loss=losses.BinaryCrossentropy())"
   ]
  }
 ],
 "metadata": {
  "kernelspec": {
   "display_name": "Python 3",
   "language": "python",
   "name": "python3"
  },
  "language_info": {
   "codemirror_mode": {
    "name": "ipython",
    "version": 3
   },
   "file_extension": ".py",
   "mimetype": "text/x-python",
   "name": "python",
   "nbconvert_exporter": "python",
   "pygments_lexer": "ipython3",
   "version": "3.8.3"
  }
 },
 "nbformat": 4,
 "nbformat_minor": 4
}
